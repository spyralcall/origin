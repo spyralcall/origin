{
 "cells": [
  {
   "cell_type": "code",
   "execution_count": 4,
   "metadata": {},
   "outputs": [
    {
     "name": "stdout",
     "output_type": "stream",
     "text": [
      "['11０', '1０', '1００', '1０００', '21', '2０', '2００', '2０１７', '82０', 'お客様の声', 'お金', 'しろ', 'ずれ', 'みれ', 'アウディ', 'アクセラ', 'アップ', 'アドバイス', 'アルミホイール', 'アンケート', 'アール', 'イング', 'ウェブ', 'エスカレーション', 'カスタマー', 'キュー', 'クレジット', 'グループ', 'コスト', 'コメント', 'コメント欄', 'コース', 'コールセンター', 'サポート', 'サービス', 'システム', 'ショップ', 'ストップ', 'センター', 'ダイヤル', 'ダウン', 'テニス', 'テル', 'ディーラー', 'デメリット', 'データ', 'ドア', 'ナンバー', 'ノーカウント', 'バイク', 'バンパー', 'ファックス', 'フォロー', 'フリーコール', 'フリーダイヤル', 'プラン', 'プリウス', 'プレー', 'プロテクト', 'ペルテ', 'ページ', 'ホーム', 'ポリープ', 'ポロ', 'マーク', 'ミス', 'メリット', 'メール', 'レジャー', 'レター', 'ワン', '一律', '一括', '一方的', '一時停止', '一環', '一般', '一言', '上から目線', '上記', '上長', '下記', '不備', '不十分', '不可', '不在', '不安', '不快', '不満', '不親切', '不足', '中学生', '中断', '中止', '了承', '了解', '予定', '争点', '事務的', '事実関係']\n",
      "0.7563927854802805\n",
      "(79, 615)\n"
     ]
    }
   ],
   "source": [
    "from sklearn.feature_extraction.text import CountVectorizer\n",
    "from sklearn.feature_extraction.text import TfidfTransformer\n",
    "import os\n",
    "import numpy as np\n",
    "from sklearn.model_selection import train_test_split\n",
    "from sklearn.metrics import f1_score\n",
    "from sklearn import svm\n",
    "from sklearn.model_selection import cross_val_score\n",
    "\n",
    "\n",
    "files = ['result_kujou_sud/' + path for path in os.listdir('result_kujou_sud')]\n",
    "count_vect = CountVectorizer(input='filename')\n",
    "X_train_counts = count_vect.fit_transform(files)\n",
    "\n",
    "\n",
    "tfidf_transformer = TfidfTransformer()\n",
    "X_train_tfidf = tfidf_transformer.fit_transform(X_train_counts)\n",
    "\n",
    "features = count_vect.get_feature_names()\n",
    "print(features[0:100])\n",
    "\n",
    "X_train_tfidf = X_train_tfidf.toarray()\n",
    "print(X_train_tfidf.max())\n",
    "all_X = X_train_tfidf\n",
    "all_y = np.loadtxt('only_suuti_label.csv', delimiter = '\\n', dtype = float)\n",
    "#print(all_y)\n",
    "#print(type(all_X))\n",
    "#print(type(all_y))\n",
    "print(all_X.shape)\n",
    "#print(count_vect.vocabulary_)"
   ]
  },
  {
   "cell_type": "code",
   "execution_count": 2,
   "metadata": {
    "scrolled": true
   },
   "outputs": [
    {
     "name": "stdout",
     "output_type": "stream",
     "text": [
      "Gridsearch_CV_score: 0.587\n",
      "Gridsearch_best_param: {'svc__C': 1.0, 'svc__gamma': 0.1, 'svc__kernel': 'rbf'}\n",
      "Test accuracy : 0.188\n"
     ]
    }
   ],
   "source": [
    "from sklearn.model_selection import GridSearchCV\n",
    "from sklearn.svm import SVC\n",
    "from sklearn.pipeline import make_pipeline\n",
    "from sklearn.preprocessing import StandardScaler\n",
    "from sklearn.decomposition import PCA\n",
    "from tqdm import tqdm\n",
    "\n",
    "train_X, test_X, train_y, test_y = train_test_split(all_X, all_y,\n",
    "                                                    test_size=0.2,\n",
    "                                                    random_state=42)\n",
    "\n",
    "pipe_svc = make_pipeline(StandardScaler(),PCA(n_components = 5, random_state =1 ), SVC(random_state = 2))\n",
    "param_range = [0.00001,0.0001,0.001,0.01,0.1,1.0,10.0,100.0,1000.0,10000.0]\n",
    "params = [{\"svc__C\":param_range, \"svc__kernel\":[\"linear\"]},{\"svc__C\":param_range, \"svc__gamma\":param_range, \"svc__kernel\":[\"rbf\"]}]\n",
    "gs = GridSearchCV(estimator = pipe_svc, param_grid = params, scoring = \"accuracy\", cv = 5, n_jobs = -1)\n",
    "gs = gs.fit(train_X, train_y)\n",
    "print(\"Gridsearch_CV_score: %.3f\" % gs.best_score_)\n",
    "print(\"Gridsearch_best_param: %s\" % gs.best_params_)\n",
    "\n",
    "clf  = gs.best_estimator_\n",
    "clf.fit(train_X, train_y)\n",
    "print(\"Test accuracy : %.3f\" % clf.score(test_X, test_y))\n",
    "\n",
    "#for i in gs.grid_scores_:\n",
    "   # print(i)"
   ]
  },
  {
   "cell_type": "code",
   "execution_count": 7,
   "metadata": {},
   "outputs": [
    {
     "name": "stdout",
     "output_type": "stream",
     "text": [
      "1.0\n",
      "jigen:11    SVM_C = 100000.0  SVM_gamma = 0.001 \n",
      "Accuracy:0.4050632911392405\n",
      "TP_rate: 0.43902439024390244\n",
      "TN_rate: 0.3684210526315789\n",
      "FP_rate: 0.631578947368421\n",
      "FN_rate: 0.5609756097560976\n",
      "Accuracy : 0.4050632911392405\n",
      "\n",
      "kpca_best_param: []\n",
      "18\n"
     ]
    }
   ],
   "source": [
    "from sklearn.model_selection import LeaveOneOut\n",
    "from sklearn.pipeline import make_pipeline\n",
    "from sklearn.preprocessing import StandardScaler\n",
    "from sklearn.decomposition import PCA\n",
    "from sklearn.svm import SVC\n",
    "\n",
    "loo = LeaveOneOut()\n",
    "entire_count = loo.get_n_splits(all_X) \n",
    "p = np.array([1.0])\n",
    "n = np.array([0.0])\n",
    "print(p[0])\n",
    "best = []\n",
    "\n",
    "for l in [11]:\n",
    "    for c in [100000.0]:\n",
    "        for g in [0.001]:\n",
    "            pipe  = make_pipeline(StandardScaler(), PCA(n_components = l, random_state = 1), SVC(C =c,gamma =g, kernel = \"rbf\",random_state = 2))\n",
    "            correct_answer_count = 0 \n",
    "            fn=0\n",
    "            fp=0\n",
    "            tp=0\n",
    "            tn=0            \n",
    "            for train_index, test_index in loo.split(all_X):\n",
    "                #print(train_index, test_index)\n",
    "                x_train, x_test = all_X[train_index], all_X[test_index]\n",
    "                y_train, y_test = all_y[train_index], all_y[test_index]\n",
    "                pipe.fit(x_train, y_train)  # 学習させる\n",
    "                result = pipe.predict(x_test)  # テストデータからラベルを予測する\n",
    "                if result == y_test:  # ラベルと元々のラベルが一致していれば+1\n",
    "                    correct_answer_count += 1\n",
    "                if result != y_test and result[0] == n[0]:\n",
    "                    fn += 1\n",
    "                elif result != y_test and result[0] == p[0]:\n",
    "                    fp +=1\n",
    "                elif result == y_test and result[0] == p[0]:\n",
    "                    tp += 1\n",
    "                elif result == y_test and result[0] == n[0]:\n",
    "                    tn += 1\n",
    "\n",
    "            accuracy = (float(tp+tn)/float(tp+tn+fp+fn))\n",
    "            true_positive_rate = (float(tp)/float(tp+fn))\n",
    "            true_negative_rate = (float(tn)/float(tn + fp))\n",
    "            false_positive_rate = (float(fp)/float(fp + tn))\n",
    "            false_negative_rate = (float(fn)/float(fn + tp))\n",
    "            if accuracy >0.6:\n",
    "                best.append([l,c,g])\n",
    "\n",
    "            print(\"jigen:%s    SVM_C = %s  SVM_gamma = %s \" % (l,c,g))\n",
    "            print(\"Accuracy:%s\" % accuracy)\n",
    "            print(\"TP_rate: %s\" % true_positive_rate)\n",
    "            print(\"TN_rate: %s\" % true_negative_rate)\n",
    "            print(\"FP_rate: %s\" % false_positive_rate)\n",
    "            print(\"FN_rate: %s\" % false_negative_rate)\n",
    "            rate = (float(correct_answer_count) / float(entire_count))  # 正解率を計算\n",
    "            print(\"Accuracy : %s\" % str(rate))  # 正解率を出力\n",
    "            print(\"\")\n",
    "            \n",
    "\n",
    "print(\"kpca_best_param: %s\" %best)\n",
    "print(tp)\n",
    "# scores = cross_val_score(pipe, all_X, all_y , cv= 25)\n",
    "# print(\"Cross-Validation scores: {}\".format(scores))\n",
    "# print(\"Average score: {}\".format(np.mean(scores)))\n",
    "\n",
    "\n",
    "# pred_y2 = pipe.predict(test_X)\n",
    "# print(test_y)\n",
    "# print(pred_y2)\n",
    "# print(f1_score(test_y, pred_y2, average='micro'))\n",
    "\n",
    "\n",
    "\n",
    "#from sklearn.metrics import confusion_matrix\n",
    "#print(confusion_matrix(test_y, pred_y2))\n",
    "#if result != y_test and float(result) ==　0:\n",
    "   #     fn += 1\n",
    "#elif result != y_test and float(result) == 1:\n",
    "   #     fp +=1\n",
    "#elif result == y_test and float(result) ==1:\n",
    " #       tp += 1\n",
    "#elif result == y_test and float(result) == 0:\n",
    "   #     fn += 1"
   ]
  }
 ],
 "metadata": {
  "kernelspec": {
   "display_name": "Python 3",
   "language": "python",
   "name": "python3"
  },
  "language_info": {
   "codemirror_mode": {
    "name": "ipython",
    "version": 3
   },
   "file_extension": ".py",
   "mimetype": "text/x-python",
   "name": "python",
   "nbconvert_exporter": "python",
   "pygments_lexer": "ipython3",
   "version": "3.6.4"
  }
 },
 "nbformat": 4,
 "nbformat_minor": 2
}
