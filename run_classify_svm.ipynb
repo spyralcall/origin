{
 "cells": [
  {
   "cell_type": "code",
<<<<<<< HEAD
   "execution_count": 10,
   "metadata": {},
   "outputs": [
    {
     "name": "stdout",
     "output_type": "stream",
     "text": [
      "(79, 615)\n",
      "(79, 615)\n",
      "<class 'numpy.ndarray'>\n",
      "[1. 0. 0. 1. 0. 1. 1. 1. 1. 1. 1. 0. 1. 1. 1. 0. 0. 1. 1. 0. 0. 0. 1. 0.\n",
      " 0. 0. 0. 0. 1. 0. 1. 1. 1. 1. 1. 0. 0. 1. 0. 0. 0. 0. 0. 0. 0. 0. 1. 1.\n",
      " 0. 0. 1. 1. 0. 0. 1. 0. 0. 1. 1. 1. 1. 1. 0. 1. 1. 0. 0. 1. 1. 1. 1. 1.\n",
      " 1. 1. 1. 0. 0. 0. 0.]\n",
      "[[0. 0. 0. ... 0. 0. 0.]\n",
      " [0. 0. 0. ... 0. 0. 0.]\n",
      " [0. 0. 0. ... 0. 0. 0.]\n",
      " ...\n",
      " [0. 0. 0. ... 0. 0. 0.]\n",
      " [0. 0. 0. ... 0. 0. 0.]\n",
      " [0. 0. 0. ... 0. 0. 0.]]\n"
=======
   "execution_count": 7,
   "metadata": {},
   "outputs": [
    {
     "ename": "ImportError",
     "evalue": "No module named 'sklearn.grid_search'",
     "output_type": "error",
     "traceback": [
      "\u001b[0;31m---------------------------------------------------------------------------\u001b[0m",
      "\u001b[0;31mImportError\u001b[0m                               Traceback (most recent call last)",
      "\u001b[0;32m<ipython-input-7-bd550f6ac8ee>\u001b[0m in \u001b[0;36m<module>\u001b[0;34m\u001b[0m\n\u001b[1;32m      7\u001b[0m \u001b[0;32mfrom\u001b[0m \u001b[0msklearn\u001b[0m\u001b[0;34m.\u001b[0m\u001b[0msvm\u001b[0m \u001b[0;32mimport\u001b[0m \u001b[0mSVC\u001b[0m\u001b[0;34m\u001b[0m\u001b[0m\n\u001b[1;32m      8\u001b[0m \u001b[0;32mfrom\u001b[0m \u001b[0msklearn\u001b[0m\u001b[0;34m.\u001b[0m\u001b[0mmodel_selection\u001b[0m \u001b[0;32mimport\u001b[0m \u001b[0mcross_val_score\u001b[0m\u001b[0;34m\u001b[0m\u001b[0m\n\u001b[0;32m----> 9\u001b[0;31m \u001b[0;32mfrom\u001b[0m \u001b[0msklearn\u001b[0m\u001b[0;34m.\u001b[0m\u001b[0mgrid_search\u001b[0m \u001b[0;32mimport\u001b[0m \u001b[0mGridSearchCV\u001b[0m\u001b[0;34m\u001b[0m\u001b[0m\n\u001b[0m\u001b[1;32m     10\u001b[0m \u001b[0;34m\u001b[0m\u001b[0m\n\u001b[1;32m     11\u001b[0m \u001b[0mfiles\u001b[0m \u001b[0;34m=\u001b[0m \u001b[0;34m[\u001b[0m\u001b[0;34m'result_kujou_sud/'\u001b[0m \u001b[0;34m+\u001b[0m \u001b[0mpath\u001b[0m \u001b[0;32mfor\u001b[0m \u001b[0mpath\u001b[0m \u001b[0;32min\u001b[0m \u001b[0mos\u001b[0m\u001b[0;34m.\u001b[0m\u001b[0mlistdir\u001b[0m\u001b[0;34m(\u001b[0m\u001b[0;34m'result_kujou_sud'\u001b[0m\u001b[0;34m)\u001b[0m\u001b[0;34m]\u001b[0m\u001b[0;34m\u001b[0m\u001b[0m\n",
      "\u001b[0;31mImportError\u001b[0m: No module named 'sklearn.grid_search'"
>>>>>>> 612c672706cae4988af962eb0877b44b24cb5310
     ]
    }
   ],
   "source": [
    "from sklearn.feature_extraction.text import CountVectorizer\n",
    "from sklearn.feature_extraction.text import TfidfTransformer\n",
    "import os\n",
    "import numpy as np\n",
    "from sklearn.model_selection import train_test_split\n",
    "from sklearn.metrics import f1_score\n",
    "from sklearn.model_selection import cross_val_score\n",
    "from sklearn.model_selection import GridSearchCV\n",
    "\n",
    "files = ['result_kujou_sud/' + path for path in os.listdir('result_kujou_sud')]\n",
    "count_vect = CountVectorizer(input='filename')\n",
    "X_train_counts = count_vect.fit_transform(files)\n",
    "print(X_train_counts.shape)\n",
    "\n",
    "\n",
    "tfidf_transformer = TfidfTransformer()\n",
    "X_train_tfidf = tfidf_transformer.fit_transform(X_train_counts)\n",
    "print(X_train_tfidf.shape)\n",
    "\n",
    "X_train_tfidf = X_train_tfidf.toarray()\n",
    "\n",
    "all_X = X_train_tfidf\n",
    "all_y = np.loadtxt('only_suuti_label.csv', delimiter = '\\n', dtype = float)\n",
    "print(type(all_X))\n",
    "print(all_y)\n",
    "print(all_X)\n",
    "print(all_X.shape)"
   ]
  },
  {
   "cell_type": "code",
<<<<<<< HEAD
   "execution_count": 11,
   "metadata": {},
   "outputs": [],
   "source": [
    "from matplotlib.colors  import ListedColormap\n",
    "import matplotlib.pyplot as plt\n",
    "\n",
    "def plot_decision_regions(X, y, classifier, resolution = 0.02):\n",
    "    #マーカーとカラーマップの準備\n",
    "    markers = (\"s\", \"x\", \"o\", \"^\", \"v\")\n",
    "    colors = (\"red\", \"blue\", \"lightgreen\", \"gray\", \"cyan\")\n",
    "    cmap  = ListedColormap(colors[:len(np.unique(y))])\n",
    "    \n",
    "    #決定領域のプロット\n",
    "    x1_min, x1_max = X[:, 0].min() -1, X[:, 0].max() +1\n",
    "    x2_min, x2_max = X[:, 1].min() -1, X[:, 1].max() +1\n",
    "    #グリッドポイントの生成\n",
    "    xx1, xx2 = np.meshgrid(np.arange(x1_min, x1_max, resolution),\n",
    "                                              np.arange(x2_min, x2_max, resolution))\n",
    "    #各特徴量を１次元配列に変換して予測を実行\n",
    "    Z = classifier.predict(np.array([xx1.ravel(), xx2.ravel()]).T)\n",
    "    #予測結果をもとにグリッドポイントのデータサイズに変換\n",
    "    Z = Z.reshape(xx1.shape)\n",
    "    #グリッドポイントの等高線のプロット\n",
    "    plt.contourf(xx1, xx2, Z, alpha = 0.4, cmap = cmap)\n",
    "    #軸の範囲の設定\n",
    "    plt.xlim(xx1.min(), xx1.max())\n",
    "    plt.ylim(xx2.min(), xx2.max())\n",
    "    \n",
    "    #クラスごとにサンプルをプロット\n",
    "    for idx, cl in enumerate(np.unique(y)):\n",
    "        plt.scatter(x = X[y == cl, 0],\n",
    "                            y = X[y == cl, 1],\n",
    "                            alpha = 0.6,\n",
    "                            c = cmap(idx),\n",
    "                            edgecolor = \"black\", \n",
    "                            marker = markers[idx],\n",
    "                            label = cl)"
   ]
  },
  {
   "cell_type": "code",
   "execution_count": 24,
   "metadata": {},
   "outputs": [
    {
     "data": {
      "image/png": "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\n",
      "text/plain": [
       "<matplotlib.figure.Figure at 0x1a3358feb8>"
      ]
     },
     "metadata": {},
     "output_type": "display_data"
    },
    {
     "data": {
      "text/plain": [
       "array([5.00170612e-02, 4.12742768e-02, 3.83745183e-02, 3.01402280e-02,\n",
       "       2.95366052e-02, 2.92595303e-02, 2.87299461e-02, 2.70046251e-02,\n",
       "       2.67694636e-02, 2.53972825e-02, 2.52623525e-02, 2.43618247e-02,\n",
       "       2.38603815e-02, 2.25593638e-02, 2.21568676e-02, 2.18902467e-02,\n",
       "       2.11032724e-02, 2.09432608e-02, 2.02813390e-02, 1.96989180e-02,\n",
       "       1.93755356e-02, 1.91731462e-02, 1.87875144e-02, 1.77433063e-02,\n",
       "       1.75282545e-02, 1.70709952e-02, 1.65060613e-02, 1.64837139e-02,\n",
       "       1.62949367e-02, 1.50731957e-02, 1.47158285e-02, 1.41749915e-02,\n",
       "       1.38161016e-02, 1.32666897e-02, 1.25445388e-02, 1.22580082e-02,\n",
       "       1.18920797e-02, 1.15692674e-02, 1.06439175e-02, 1.03953552e-02,\n",
       "       1.01088926e-02, 9.88933488e-03, 9.57574932e-03, 9.38971151e-03,\n",
       "       9.09154133e-03, 8.64089933e-03, 8.58600602e-03, 8.41794758e-03,\n",
       "       7.86523971e-03, 7.76084643e-03, 7.18203342e-03, 6.98749514e-03,\n",
       "       6.68982895e-03, 6.54987427e-03, 5.98129610e-03, 5.83016726e-03,\n",
       "       5.52269468e-03, 4.80111612e-03, 4.17005389e-03, 3.99409751e-03,\n",
       "       3.88258064e-03, 1.14779152e-03, 9.86412605e-33])"
      ]
     },
     "execution_count": 24,
     "metadata": {},
     "output_type": "execute_result"
=======
   "execution_count": 9,
   "metadata": {},
   "outputs": [
    {
     "name": "stdout",
     "output_type": "stream",
     "text": [
      "0.5189873417721519\n",
      "{'svc__kernel': 'linear', 'svc__C': 1e-13}\n",
      "{'svc__kernel': ['linear'], 'svc__C': [1e-13, 1e-08, 1e-07, 1e-06, 1e-05, 0.0001, 0.001, 0.01, 0.1, 1.0, 10.0, 100.0, 1000.0, 10000.0, 100000.0, 1000000.0]}\n",
      "{'svc__kernel': ['rbf'], 'svc__gamma': [1e-13, 1e-08, 1e-07, 1e-06, 1e-05, 0.0001, 0.001, 0.01, 0.1, 1.0, 10.0, 100.0, 1000.0, 10000.0, 100000.0, 1000000.0], 'svc__C': [1e-13, 1e-08, 1e-07, 1e-06, 1e-05, 0.0001, 0.001, 0.01, 0.1, 1.0, 10.0, 100.0, 1000.0, 10000.0, 100000.0, 1000000.0]}\n"
     ]
    },
    {
     "name": "stderr",
     "output_type": "stream",
     "text": [
      "/home_local/iwanaga/venv/lib/python3.5/site-packages/sklearn/model_selection/_search.py:841: DeprecationWarning: The default of the `iid` parameter will change from True to False in version 0.22 and will be removed in 0.24. This will change numeric results when test-set sizes are unequal.\n",
      "  DeprecationWarning)\n"
     ]
>>>>>>> 612c672706cae4988af962eb0877b44b24cb5310
    }
   ],
   "source": [
    "from sklearn.svm import SVC\n",
    "from sklearn.preprocessing import StandardScaler\n",
    "from sklearn.pipeline import make_pipeline\n",
    "from sklearn.decomposition import PCA\n",
    "from sklearn.linear_model import LogisticRegression\n",
    "#主成分数を指定して、PCAのインスタンスを生成\n",
    "pca= PCA(n_components = 2)\n",
    "#SVMのインスタンスを生成\n",
    "svm = LogisticRegression()\n",
    "#traindataとtestdataに分割\n",
    "X_train, X_test, y_train, y_test = train_test_split(all_X, all_y,\n",
    "                                                    test_size=0.2,\n",
    "                                                    random_state=41)\n",
    "#X_trainとX_testを平均と標準偏差を用いて標準化\n",
    "sc = StandardScaler()\n",
    "X_train_std = sc.fit_transform(X_train)\n",
    "X_test_std = sc.transform(X_test)\n",
    "\n",
    "#トレーニングデータとテストでーたでPCAを実行\n",
    "X_train_pca = pca.fit_transform(X_train_std)\n",
    "X_test_pca = pca.transform(X_test_std)\n",
    "#トレーニングデータでSVMを実行\n",
    "svm.fit(X_train_pca, y_train)\n",
    "#決定境界をプロット\n",
    "plot_decision_regions(X_train_pca, y_train, classifier = svm)\n",
    "plt.xlabel(\"PC1\")\n",
    "plt.ylabel(\"PC2\")\n",
    "plt.legend(loc = \"lower left\")\n",
    "plt.tight_layout()\n",
    "plt.show()\n",
    "\n",
    "pca= PCA(n_components =None)\n",
    "X_trian_pca = pca.fit_transform(X_train_std)\n",
    "#分散説明率を計算\n",
    "pca.explained_variance_ratio_\n",
    "\n",
    "#sc = StandardScaler()\n",
    "#train_X_std = sc.fit_transform(train_X)\n",
    "#test_X_std = sc.transform(test_X)\n",
    "#print(test_X_std)\n",
    "#cov_mat = np.cov(train_X_std.T)\n",
    "#eigen_vals, eigen_vecs = np.linalg.eig(cov_mat)\n",
    "#print(\"\\nEigenvalues \\n%s\" % eigen_vals)\n",
    "\n",
    "#tot = sum(eigen_vals)\n",
    "#var_exp = [(i/tot) for i in sorted(eigen_vals, reverse = True)]\n",
    "#cum_var_exp = np.cumsum(var_exp)\n",
    "#print(type(cum_var_exp))\n",
    "#var_exp = np.array(var_exp)\n",
    "#print(var_exp)\n",
    "\n",
    "\n",
    "#plt.bar(range(1, 616), var_exp, alpha = 0.5, align = \"center\", label = \"individual explained variance\")\n",
    "#plt.step(range(1, 616), cum_var_exp, where = \"mid\", label = \"cumulative explained variance\")\n",
    "#plt.ylabel(\"Explained variance ratio\")\n",
    "#plt.xlabel(\"Principal component index\")\n",
    "#plt.tight_layout()\n",
    "#plt.show()\n",
    "\n",
    "#eigen_pairs = [(np.abs(eigen_vals[i]),eigen_vecs[:,i])\n",
    "#              for i in range(len(eigen_vals))]\n",
    "#eigen_pairs.sort(key = lambda k: k[0], reverse = True)\n",
    "#w = np.hstack((eigen_pairs[0][1][:, np.newaxis], eigen_pairs[1][1][:,np.newaxis]))\n",
    "#print(\"Matrix W : \\n\", w)\n",
    "#pipe = make_pipeline(sc,SVC())\n",
    "#param_range = [0.000001,0.00001,0.0001,0.001,0.01,0.1,1.0,10.0,100.0,1000.0,10000.0,100000.0]\n",
    "#params = [{\"svc__C\":param_range, \"svc__kernel\":[\"linear\"]},{\"svc__C\":param_range, \"svc__gamma\":param_range, \"svc__kernel\":[\"rbf\"]}]\n",
    "\n",
    "#gs = GridSearchCV(pipe, param_grid = params, scoring = \"accuracy\", cv = 10, n_jobs = -1)\n",
    "#gs = gs.fit(train_X, train_y)\n",
    "#print(gs.best_score_)\n",
    "#print(gs.best_params_)"
   ]
  },
  {
   "cell_type": "code",
   "execution_count": 22,
   "metadata": {},
   "outputs": [],
   "source": [
    "from scipy.spatial.distance import pdist, squareform\n",
    "from scipy import exp\n",
    "from scipy.linalg import eigh\n",
    "import numpy as np\n",
    "\n",
    "def rbf_kernel_pca(X, gamma, n_components):\n",
    "    \"\"\"RBFカーネルPCA の実装\n",
    "    パラメータ\n",
    "    ____________\n",
    "    X: {NumPy ndarray}, shape = [n_samples, n_features]\n",
    "    \n",
    "    gamma: float\n",
    "                RBFカーネルのチューニングパラメータ\n",
    "                \n",
    "    n_components: int\n",
    "                返される主成分の個数\n",
    "                \n",
    "    戻り値\n",
    "    ____________\n",
    "    X_pc: {NumPy, ndarray}, shape = [n_samples, k_features]\n",
    "                射影されたデータセット\n",
    "            \n",
    "    \"\"\"\n",
    "    \n",
    "    #M×N次元のデータセットでペア毎のユークリッド距離の２乗を計算\n",
    "    sq_dists = pdist(X, \"sqeuclidean\")\n",
    "    #ペア毎の距離を正方行列に変換\n",
    "    mat_sq_dists = squareform(sq_dists)\n",
    "    \n",
    "    #対象カーネル行列を計算\n",
    "    K = exp(-gamma * mat_sq_dists)\n",
    "    \n",
    "    #カーネル行列を中心化\n",
    "    N = K.shape[0]\n",
    "    one_n = np.ones((N, N)) / N\n",
    "    K = K - one_n.dot(K) - K.dot(one_n) + one_n.dot(K).dot(one_n)\n",
    "    \n",
    "    #中心化されたカーネル行列から固有対を取得\n",
    "    #scipy.linalg.eighはそれらを昇順で返す\n",
    "    eigvals, eigvecs = eigh(K)\n",
    "    eigvals, eigvecs = eigvals[::-1], eigvecs[:, ::-1]\n",
    "    \n",
    "    #上位k個の固有ベクトル（射影されたサンプル）を収集\n",
    "    X_pc = np.column_stack((eigvecs[:, i]\n",
    "                                                   for i in range(n_components)))\n",
    "    \n",
    "    return X_pc"
   ]
  },
  {
   "cell_type": "code",
   "execution_count": 28,
   "metadata": {},
   "outputs": [
    {
     "ename": "ValueError",
     "evalue": "x and y must be the same size",
     "output_type": "error",
     "traceback": [
      "\u001b[0;31m---------------------------------------------------------------------------\u001b[0m",
      "\u001b[0;31mValueError\u001b[0m                                Traceback (most recent call last)",
      "\u001b[0;32m<ipython-input-28-ab17a17975c4>\u001b[0m in \u001b[0;36m<module>\u001b[0;34m()\u001b[0m\n\u001b[1;32m     10\u001b[0m                         color = \"blue\", marker = \"o\", alpha = 0.5)\n\u001b[1;32m     11\u001b[0m ax[1].scatter(X_kpca[y == 0, 0], np.zeros((50, 1))+0.02,\n\u001b[0;32m---> 12\u001b[0;31m                          color = \"red\", marker =  \"^\", alpha = 0.5)\n\u001b[0m\u001b[1;32m     13\u001b[0m ax[1].scatter(X_kpca[y == 1, 0], np.zeros((50,1))-0.02,\n\u001b[1;32m     14\u001b[0m                          color = \"blue\", marker = \"o\", alpha = 0.5)\n",
      "\u001b[0;32m~/.pyenv/versions/anaconda3-5.1.0/lib/python3.6/site-packages/matplotlib/__init__.py\u001b[0m in \u001b[0;36minner\u001b[0;34m(ax, *args, **kwargs)\u001b[0m\n\u001b[1;32m   1715\u001b[0m                     warnings.warn(msg % (label_namer, func.__name__),\n\u001b[1;32m   1716\u001b[0m                                   RuntimeWarning, stacklevel=2)\n\u001b[0;32m-> 1717\u001b[0;31m             \u001b[0;32mreturn\u001b[0m \u001b[0mfunc\u001b[0m\u001b[0;34m(\u001b[0m\u001b[0max\u001b[0m\u001b[0;34m,\u001b[0m \u001b[0;34m*\u001b[0m\u001b[0margs\u001b[0m\u001b[0;34m,\u001b[0m \u001b[0;34m**\u001b[0m\u001b[0mkwargs\u001b[0m\u001b[0;34m)\u001b[0m\u001b[0;34m\u001b[0m\u001b[0m\n\u001b[0m\u001b[1;32m   1718\u001b[0m         \u001b[0mpre_doc\u001b[0m \u001b[0;34m=\u001b[0m \u001b[0minner\u001b[0m\u001b[0;34m.\u001b[0m\u001b[0m__doc__\u001b[0m\u001b[0;34m\u001b[0m\u001b[0m\n\u001b[1;32m   1719\u001b[0m         \u001b[0;32mif\u001b[0m \u001b[0mpre_doc\u001b[0m \u001b[0;32mis\u001b[0m \u001b[0;32mNone\u001b[0m\u001b[0;34m:\u001b[0m\u001b[0;34m\u001b[0m\u001b[0m\n",
      "\u001b[0;32m~/.pyenv/versions/anaconda3-5.1.0/lib/python3.6/site-packages/matplotlib/axes/_axes.py\u001b[0m in \u001b[0;36mscatter\u001b[0;34m(self, x, y, s, c, marker, cmap, norm, vmin, vmax, alpha, linewidths, verts, edgecolors, **kwargs)\u001b[0m\n\u001b[1;32m   3953\u001b[0m         \u001b[0my\u001b[0m \u001b[0;34m=\u001b[0m \u001b[0mnp\u001b[0m\u001b[0;34m.\u001b[0m\u001b[0mma\u001b[0m\u001b[0;34m.\u001b[0m\u001b[0mravel\u001b[0m\u001b[0;34m(\u001b[0m\u001b[0my\u001b[0m\u001b[0;34m)\u001b[0m\u001b[0;34m\u001b[0m\u001b[0m\n\u001b[1;32m   3954\u001b[0m         \u001b[0;32mif\u001b[0m \u001b[0mx\u001b[0m\u001b[0;34m.\u001b[0m\u001b[0msize\u001b[0m \u001b[0;34m!=\u001b[0m \u001b[0my\u001b[0m\u001b[0;34m.\u001b[0m\u001b[0msize\u001b[0m\u001b[0;34m:\u001b[0m\u001b[0;34m\u001b[0m\u001b[0m\n\u001b[0;32m-> 3955\u001b[0;31m             \u001b[0;32mraise\u001b[0m \u001b[0mValueError\u001b[0m\u001b[0;34m(\u001b[0m\u001b[0;34m\"x and y must be the same size\"\u001b[0m\u001b[0;34m)\u001b[0m\u001b[0;34m\u001b[0m\u001b[0m\n\u001b[0m\u001b[1;32m   3956\u001b[0m \u001b[0;34m\u001b[0m\u001b[0m\n\u001b[1;32m   3957\u001b[0m         \u001b[0;32mif\u001b[0m \u001b[0ms\u001b[0m \u001b[0;32mis\u001b[0m \u001b[0;32mNone\u001b[0m\u001b[0;34m:\u001b[0m\u001b[0;34m\u001b[0m\u001b[0m\n",
      "\u001b[0;31mValueError\u001b[0m: x and y must be the same size"
     ]
    },
    {
     "data": {
      "image/png": "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\n",
      "text/plain": [
       "<matplotlib.figure.Figure at 0x1a321b02e8>"
      ]
     },
     "metadata": {},
     "output_type": "display_data"
    }
   ],
   "source": [
    "from matplotlib.ticker import FormatStrFormatter\n",
    "y = y_train\n",
    "\n",
<<<<<<< HEAD
    "#かーねるPCA関数を実行（データ、チューニンぐパラメータ、次元数を指定）\n",
    "X_kpca = rbf_kernel_pca(X_train_std, gamma = 15, n_components = 2)\n",
    "fig, ax = plt.subplots(nrows = 1, ncols =2 , figsize = (7,3))\n",
    "ax[0].scatter(X_kpca[ y==0, 0], X_kpca[y ==0, 1],\n",
    "                        color = \"red\", marker =\"^\", alpha = 0.5)\n",
    "ax[0].scatter(X_kpca[y == 1, 0], X_kpca[y ==1, 1],\n",
    "                        color = \"blue\", marker = \"o\", alpha = 0.5)\n",
    "ax[1].scatter(X_kpca[y == 0, 0], np.zeros((50, 1))+0.02,\n",
    "                         color = \"red\", marker =  \"^\", alpha = 0.5)\n",
    "ax[1].scatter(X_kpca[y == 1, 0], np.zeros((50,1))-0.02,\n",
    "                         color = \"blue\", marker = \"o\", alpha = 0.5)\n",
    "ax[0].set_xlabel(\"PC1\")\n",
    "ax[0].set_ylabel(\"PC2\")\n",
    "ax[1].set_ylim([-1, 1])\n",
    "ax[1].set_yticks([])\n",
    "ax[1].set_xlabel(\"PC1\")\n",
    "plt.tight_layout()\n",
    "plt.show"
=======
    "gs = GridSearchCV(pipe, param_grid = params, scoring = \"accuracy\", cv = 5, n_jobs = -1)\n",
    "gs = gs.fit(all_X, all_y)\n",
    "print(gs.best_score_)\n",
    "print(gs.best_params_)\n",
    "\n",
    "for i in params:\n",
    "    print(i)"
>>>>>>> 612c672706cae4988af962eb0877b44b24cb5310
   ]
  },
  {
   "cell_type": "code",
<<<<<<< HEAD
   "execution_count": null,
   "metadata": {},
   "outputs": [],
   "source": []
  },
  {
   "cell_type": "code",
   "execution_count": 15,
=======
   "execution_count": 3,
>>>>>>> 612c672706cae4988af962eb0877b44b24cb5310
   "metadata": {},
   "outputs": [
    {
     "name": "stdout",
     "output_type": "stream",
     "text": [
      "Cross-Validation scores: [0.5        0.5        0.5        0.5        0.5        0.5\n",
      " 0.5        0.5        0.5        0.5        0.5        0.5\n",
      " 0.5        0.66666667 0.66666667 0.66666667 0.5        0.5\n",
      " 0.5        0.5        0.5        0.5        0.5        0.5\n",
      " 0.5       ]\n",
      "Average score: 0.52\n"
     ]
    },
    {
     "ename": "NameError",
     "evalue": "name 'train_X' is not defined",
     "output_type": "error",
     "traceback": [
      "\u001b[0;31m---------------------------------------------------------------------------\u001b[0m",
      "\u001b[0;31mNameError\u001b[0m                                 Traceback (most recent call last)",
      "\u001b[0;32m<ipython-input-15-23e81279bb7d>\u001b[0m in \u001b[0;36m<module>\u001b[0;34m()\u001b[0m\n\u001b[1;32m      7\u001b[0m \u001b[0mprint\u001b[0m\u001b[0;34m(\u001b[0m\u001b[0;34m\"Average score: {}\"\u001b[0m\u001b[0;34m.\u001b[0m\u001b[0mformat\u001b[0m\u001b[0;34m(\u001b[0m\u001b[0mnp\u001b[0m\u001b[0;34m.\u001b[0m\u001b[0mmean\u001b[0m\u001b[0;34m(\u001b[0m\u001b[0mscores\u001b[0m\u001b[0;34m)\u001b[0m\u001b[0;34m)\u001b[0m\u001b[0;34m)\u001b[0m\u001b[0;34m\u001b[0m\u001b[0m\n\u001b[1;32m      8\u001b[0m \u001b[0;34m\u001b[0m\u001b[0m\n\u001b[0;32m----> 9\u001b[0;31m \u001b[0mclf2\u001b[0m\u001b[0;34m.\u001b[0m\u001b[0mfit\u001b[0m\u001b[0;34m(\u001b[0m\u001b[0mtrain_X\u001b[0m\u001b[0;34m,\u001b[0m\u001b[0mtrain_y\u001b[0m\u001b[0;34m)\u001b[0m\u001b[0;34m\u001b[0m\u001b[0m\n\u001b[0m\u001b[1;32m     10\u001b[0m \u001b[0mpred_y2\u001b[0m \u001b[0;34m=\u001b[0m \u001b[0mclf2\u001b[0m\u001b[0;34m.\u001b[0m\u001b[0mpredict\u001b[0m\u001b[0;34m(\u001b[0m\u001b[0mtest_X\u001b[0m\u001b[0;34m)\u001b[0m\u001b[0;34m\u001b[0m\u001b[0m\n\u001b[1;32m     11\u001b[0m \u001b[0mprint\u001b[0m\u001b[0;34m(\u001b[0m\u001b[0mf1_score\u001b[0m\u001b[0;34m(\u001b[0m\u001b[0mtest_y\u001b[0m\u001b[0;34m,\u001b[0m \u001b[0mpred_y2\u001b[0m\u001b[0;34m,\u001b[0m \u001b[0maverage\u001b[0m\u001b[0;34m=\u001b[0m\u001b[0;34m'micro'\u001b[0m\u001b[0;34m)\u001b[0m\u001b[0;34m)\u001b[0m\u001b[0;34m\u001b[0m\u001b[0m\n",
      "\u001b[0;31mNameError\u001b[0m: name 'train_X' is not defined"
     ]
    },
    {
     "name": "stderr",
     "output_type": "stream",
     "text": [
      "/home_local/iwanaga/venv/lib/python3.5/site-packages/sklearn/svm/base.py:196: FutureWarning: The default value of gamma will change from 'auto' to 'scale' in version 0.22 to account better for unscaled features. Set gamma explicitly to 'auto' or 'scale' to avoid this warning.\n",
      "  \"avoid this warning.\", FutureWarning)\n",
      "/home_local/iwanaga/venv/lib/python3.5/site-packages/sklearn/svm/base.py:196: FutureWarning: The default value of gamma will change from 'auto' to 'scale' in version 0.22 to account better for unscaled features. Set gamma explicitly to 'auto' or 'scale' to avoid this warning.\n",
      "  \"avoid this warning.\", FutureWarning)\n",
      "/home_local/iwanaga/venv/lib/python3.5/site-packages/sklearn/svm/base.py:196: FutureWarning: The default value of gamma will change from 'auto' to 'scale' in version 0.22 to account better for unscaled features. Set gamma explicitly to 'auto' or 'scale' to avoid this warning.\n",
      "  \"avoid this warning.\", FutureWarning)\n",
      "/home_local/iwanaga/venv/lib/python3.5/site-packages/sklearn/svm/base.py:196: FutureWarning: The default value of gamma will change from 'auto' to 'scale' in version 0.22 to account better for unscaled features. Set gamma explicitly to 'auto' or 'scale' to avoid this warning.\n",
      "  \"avoid this warning.\", FutureWarning)\n",
      "/home_local/iwanaga/venv/lib/python3.5/site-packages/sklearn/svm/base.py:196: FutureWarning: The default value of gamma will change from 'auto' to 'scale' in version 0.22 to account better for unscaled features. Set gamma explicitly to 'auto' or 'scale' to avoid this warning.\n",
      "  \"avoid this warning.\", FutureWarning)\n",
      "/home_local/iwanaga/venv/lib/python3.5/site-packages/sklearn/svm/base.py:196: FutureWarning: The default value of gamma will change from 'auto' to 'scale' in version 0.22 to account better for unscaled features. Set gamma explicitly to 'auto' or 'scale' to avoid this warning.\n",
      "  \"avoid this warning.\", FutureWarning)\n",
      "/home_local/iwanaga/venv/lib/python3.5/site-packages/sklearn/svm/base.py:196: FutureWarning: The default value of gamma will change from 'auto' to 'scale' in version 0.22 to account better for unscaled features. Set gamma explicitly to 'auto' or 'scale' to avoid this warning.\n",
      "  \"avoid this warning.\", FutureWarning)\n",
      "/home_local/iwanaga/venv/lib/python3.5/site-packages/sklearn/svm/base.py:196: FutureWarning: The default value of gamma will change from 'auto' to 'scale' in version 0.22 to account better for unscaled features. Set gamma explicitly to 'auto' or 'scale' to avoid this warning.\n",
      "  \"avoid this warning.\", FutureWarning)\n",
      "/home_local/iwanaga/venv/lib/python3.5/site-packages/sklearn/svm/base.py:196: FutureWarning: The default value of gamma will change from 'auto' to 'scale' in version 0.22 to account better for unscaled features. Set gamma explicitly to 'auto' or 'scale' to avoid this warning.\n",
      "  \"avoid this warning.\", FutureWarning)\n",
      "/home_local/iwanaga/venv/lib/python3.5/site-packages/sklearn/svm/base.py:196: FutureWarning: The default value of gamma will change from 'auto' to 'scale' in version 0.22 to account better for unscaled features. Set gamma explicitly to 'auto' or 'scale' to avoid this warning.\n",
      "  \"avoid this warning.\", FutureWarning)\n",
      "/home_local/iwanaga/venv/lib/python3.5/site-packages/sklearn/svm/base.py:196: FutureWarning: The default value of gamma will change from 'auto' to 'scale' in version 0.22 to account better for unscaled features. Set gamma explicitly to 'auto' or 'scale' to avoid this warning.\n",
      "  \"avoid this warning.\", FutureWarning)\n"
     ]
    }
   ],
   "source": [
    "\n",
    "\n",
    "clf2= SVC(C=10,gamma=0.001,kernel=\"rbf\")\n",
    "scores = cross_val_score(clf2, all_X, all_y,scoring = \"accuracy\", cv=25, n_jobs = -1)\n",
    "print(\"Cross-Validation scores: {}\".format(scores))\n",
    "\n",
    "print(\"Average score: {}\".format(np.mean(scores)))\n",
    "\n",
    "clf2.fit(train_X,train_y)\n",
    "pred_y2 = clf2.predict(test_X)\n",
    "print(f1_score(test_y, pred_y2, average='micro'))\n",
    "print(f1_score(test_y, pred_y2, average='macro'))\n",
    "\n",
    "\n",
    "\n",
    "from sklearn.metrics import confusion_matrix\n",
    "print(confusion_matrix(test_y, pred_y2))"
   ]
  }
 ],
 "metadata": {
  "kernelspec": {
   "display_name": "Python 3",
   "language": "python",
   "name": "python3"
  },
  "language_info": {
   "codemirror_mode": {
    "name": "ipython",
    "version": 3
   },
   "file_extension": ".py",
   "mimetype": "text/x-python",
   "name": "python",
   "nbconvert_exporter": "python",
   "pygments_lexer": "ipython3",
   "version": "3.5.2"
  }
 },
 "nbformat": 4,
 "nbformat_minor": 2
}
