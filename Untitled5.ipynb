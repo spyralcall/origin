{
 "cells": [
  {
   "cell_type": "code",
   "execution_count": 14,
   "metadata": {},
   "outputs": [
    {
     "name": "stdout",
     "output_type": "stream",
     "text": [
      "['result_kujou_sud/0007.txt', 'result_kujou_sud/0013.txt', 'result_kujou_sud/0012.txt', 'result_kujou_sud/0006.txt', 'result_kujou_sud/0038.txt', 'result_kujou_sud/0010.txt', 'result_kujou_sud/0004.txt', 'result_kujou_sud/0005.txt', 'result_kujou_sud/0011.txt', 'result_kujou_sud/0039.txt', 'result_kujou_sud/0015.txt', 'result_kujou_sud/0001.txt', 'result_kujou_sud/0029.txt', 'result_kujou_sud/0028.txt', 'result_kujou_sud/0014.txt', 'result_kujou_sud/0002.txt', 'result_kujou_sud/0016.txt', 'result_kujou_sud/0017.txt', 'result_kujou_sud/0003.txt', 'result_kujou_sud/0058.txt', 'result_kujou_sud/0064.txt', 'result_kujou_sud/0070.txt', 'result_kujou_sud/0071.txt', 'result_kujou_sud/0065.txt', 'result_kujou_sud/0059.txt', 'result_kujou_sud/0073.txt', 'result_kujou_sud/0067.txt', 'result_kujou_sud/0066.txt', 'result_kujou_sud/0072.txt', 'result_kujou_sud/0076.txt', 'result_kujou_sud/0062.txt', 'result_kujou_sud/0063.txt', 'result_kujou_sud/0077.txt', 'result_kujou_sud/0061.txt', 'result_kujou_sud/0075.txt', 'result_kujou_sud/0049.txt', 'result_kujou_sud/0048.txt', 'result_kujou_sud/0074.txt', 'result_kujou_sud/0060.txt', 'result_kujou_sud/0079.txt', 'result_kujou_sud/0045.txt', 'result_kujou_sud/0051.txt', 'result_kujou_sud/0050.txt', 'result_kujou_sud/0044.txt', 'result_kujou_sud/0078.txt', 'result_kujou_sud/0052.txt', 'result_kujou_sud/0046.txt', 'result_kujou_sud/0047.txt', 'result_kujou_sud/0053.txt', 'result_kujou_sud/0057.txt', 'result_kujou_sud/0043.txt', 'result_kujou_sud/0042.txt', 'result_kujou_sud/0056.txt', 'result_kujou_sud/0040.txt', 'result_kujou_sud/0054.txt', 'result_kujou_sud/0068.txt', 'result_kujou_sud/0069.txt', 'result_kujou_sud/0055.txt', 'result_kujou_sud/0041.txt', 'result_kujou_sud/0026.txt', 'result_kujou_sud/0032.txt', 'result_kujou_sud/0033.txt', 'result_kujou_sud/0027.txt', 'result_kujou_sud/0019.txt', 'result_kujou_sud/0031.txt', 'result_kujou_sud/0025.txt', 'result_kujou_sud/0024.txt', 'result_kujou_sud/0030.txt', 'result_kujou_sud/0018.txt', 'result_kujou_sud/0034.txt', 'result_kujou_sud/0020.txt', 'result_kujou_sud/0008.txt', 'result_kujou_sud/0009.txt', 'result_kujou_sud/0021.txt', 'result_kujou_sud/0035.txt', 'result_kujou_sud/0023.txt', 'result_kujou_sud/0037.txt', 'result_kujou_sud/0036.txt', 'result_kujou_sud/0022.txt']\n"
     ]
    },
    {
     "ename": "TypeError",
     "evalue": "doc2bow expects an array of unicode tokens on input, not a single string",
     "output_type": "error",
     "traceback": [
      "\u001b[0;31m---------------------------------------------------------------------------\u001b[0m",
      "\u001b[0;31mTypeError\u001b[0m                                 Traceback (most recent call last)",
      "\u001b[0;32m<ipython-input-14-dae5ad48927e>\u001b[0m in \u001b[0;36m<module>\u001b[0;34m()\u001b[0m\n\u001b[1;32m     12\u001b[0m \u001b[0mprint\u001b[0m\u001b[0;34m(\u001b[0m\u001b[0mdocuments\u001b[0m\u001b[0;34m)\u001b[0m\u001b[0;34m\u001b[0m\u001b[0m\n\u001b[1;32m     13\u001b[0m \u001b[0;34m\u001b[0m\u001b[0m\n\u001b[0;32m---> 14\u001b[0;31m \u001b[0mdic\u001b[0m \u001b[0;34m=\u001b[0m \u001b[0mcorpora\u001b[0m\u001b[0;34m.\u001b[0m\u001b[0mDictionary\u001b[0m\u001b[0;34m(\u001b[0m\u001b[0mdocuments\u001b[0m\u001b[0;34m)\u001b[0m\u001b[0;34m\u001b[0m\u001b[0m\n\u001b[0m\u001b[1;32m     15\u001b[0m \u001b[0;31m# 「出現頻度が20未満の単語」と「30%以上の文書で出現する単語」を排除\u001b[0m\u001b[0;34m\u001b[0m\u001b[0;34m\u001b[0m\u001b[0m\n\u001b[1;32m     16\u001b[0m \u001b[0mdic\u001b[0m\u001b[0;34m.\u001b[0m\u001b[0mfilter_extremes\u001b[0m\u001b[0;34m(\u001b[0m\u001b[0mno_below\u001b[0m \u001b[0;34m=\u001b[0m \u001b[0;36m20\u001b[0m\u001b[0;34m,\u001b[0m \u001b[0mno_above\u001b[0m \u001b[0;34m=\u001b[0m \u001b[0;36m0.3\u001b[0m\u001b[0;34m)\u001b[0m\u001b[0;34m\u001b[0m\u001b[0m\n",
      "\u001b[0;32m~/.pyenv/versions/anaconda3-5.1.0/lib/python3.6/site-packages/gensim/corpora/dictionary.py\u001b[0m in \u001b[0;36m__init__\u001b[0;34m(self, documents, prune_at)\u001b[0m\n\u001b[1;32m     81\u001b[0m \u001b[0;34m\u001b[0m\u001b[0m\n\u001b[1;32m     82\u001b[0m         \u001b[0;32mif\u001b[0m \u001b[0mdocuments\u001b[0m \u001b[0;32mis\u001b[0m \u001b[0;32mnot\u001b[0m \u001b[0;32mNone\u001b[0m\u001b[0;34m:\u001b[0m\u001b[0;34m\u001b[0m\u001b[0m\n\u001b[0;32m---> 83\u001b[0;31m             \u001b[0mself\u001b[0m\u001b[0;34m.\u001b[0m\u001b[0madd_documents\u001b[0m\u001b[0;34m(\u001b[0m\u001b[0mdocuments\u001b[0m\u001b[0;34m,\u001b[0m \u001b[0mprune_at\u001b[0m\u001b[0;34m=\u001b[0m\u001b[0mprune_at\u001b[0m\u001b[0;34m)\u001b[0m\u001b[0;34m\u001b[0m\u001b[0m\n\u001b[0m\u001b[1;32m     84\u001b[0m \u001b[0;34m\u001b[0m\u001b[0m\n\u001b[1;32m     85\u001b[0m     \u001b[0;32mdef\u001b[0m \u001b[0m__getitem__\u001b[0m\u001b[0;34m(\u001b[0m\u001b[0mself\u001b[0m\u001b[0;34m,\u001b[0m \u001b[0mtokenid\u001b[0m\u001b[0;34m)\u001b[0m\u001b[0;34m:\u001b[0m\u001b[0;34m\u001b[0m\u001b[0m\n",
      "\u001b[0;32m~/.pyenv/versions/anaconda3-5.1.0/lib/python3.6/site-packages/gensim/corpora/dictionary.py\u001b[0m in \u001b[0;36madd_documents\u001b[0;34m(self, documents, prune_at)\u001b[0m\n\u001b[1;32m    200\u001b[0m \u001b[0;34m\u001b[0m\u001b[0m\n\u001b[1;32m    201\u001b[0m             \u001b[0;31m# update Dictionary with the document\u001b[0m\u001b[0;34m\u001b[0m\u001b[0;34m\u001b[0m\u001b[0m\n\u001b[0;32m--> 202\u001b[0;31m             \u001b[0mself\u001b[0m\u001b[0;34m.\u001b[0m\u001b[0mdoc2bow\u001b[0m\u001b[0;34m(\u001b[0m\u001b[0mdocument\u001b[0m\u001b[0;34m,\u001b[0m \u001b[0mallow_update\u001b[0m\u001b[0;34m=\u001b[0m\u001b[0;32mTrue\u001b[0m\u001b[0;34m)\u001b[0m  \u001b[0;31m# ignore the result, here we only care about updating token ids\u001b[0m\u001b[0;34m\u001b[0m\u001b[0m\n\u001b[0m\u001b[1;32m    203\u001b[0m \u001b[0;34m\u001b[0m\u001b[0m\n\u001b[1;32m    204\u001b[0m         logger.info(\n",
      "\u001b[0;32m~/.pyenv/versions/anaconda3-5.1.0/lib/python3.6/site-packages/gensim/corpora/dictionary.py\u001b[0m in \u001b[0;36mdoc2bow\u001b[0;34m(self, document, allow_update, return_missing)\u001b[0m\n\u001b[1;32m    238\u001b[0m         \"\"\"\n\u001b[1;32m    239\u001b[0m         \u001b[0;32mif\u001b[0m \u001b[0misinstance\u001b[0m\u001b[0;34m(\u001b[0m\u001b[0mdocument\u001b[0m\u001b[0;34m,\u001b[0m \u001b[0mstring_types\u001b[0m\u001b[0;34m)\u001b[0m\u001b[0;34m:\u001b[0m\u001b[0;34m\u001b[0m\u001b[0m\n\u001b[0;32m--> 240\u001b[0;31m             \u001b[0;32mraise\u001b[0m \u001b[0mTypeError\u001b[0m\u001b[0;34m(\u001b[0m\u001b[0;34m\"doc2bow expects an array of unicode tokens on input, not a single string\"\u001b[0m\u001b[0;34m)\u001b[0m\u001b[0;34m\u001b[0m\u001b[0m\n\u001b[0m\u001b[1;32m    241\u001b[0m \u001b[0;34m\u001b[0m\u001b[0m\n\u001b[1;32m    242\u001b[0m         \u001b[0;31m# Construct (word, frequency) mapping.\u001b[0m\u001b[0;34m\u001b[0m\u001b[0;34m\u001b[0m\u001b[0m\n",
      "\u001b[0;31mTypeError\u001b[0m: doc2bow expects an array of unicode tokens on input, not a single string"
     ]
    }
   ],
   "source": [
    "from gensim import corpora\n",
    "import os\n",
    "import numpy as np\n",
    "all_data = []\n",
    "\n",
    "# 名詞のリストになった記事群\n",
    "for file in os.listdir('result_kujou_sud'):\n",
    "    with open('result_kujou_sud/' + file, 'rt') as reader:\n",
    "        for line in reader:\n",
    "            all_data.append(line)\n",
    "documents = ['result_kujou_sud/' + path for path in os.listdir('result_kujou_sud')]\n",
    "print(documents)\n",
    "\n",
    "dic = corpora.Dictionary(documents)\n",
    "# 「出現頻度が20未満の単語」と「30%以上の文書で出現する単語」を排除\n",
    "dic.filter_extremes(no_below = 20, no_above = 0.3)\n",
    "bow_corpus = [dic.doc2bow(d) for d in documents]\n",
    "\n",
    "from gensim import models\n",
    "\n",
    "tfidf_model = models.TfidfModel(bow_corpus)\n",
    "tfidf_corpus = tfidf_model[bow_corpus]\n",
    "\n",
    "print(tfidf_corpus)"
   ]
  }
 ],
 "metadata": {
  "kernelspec": {
   "display_name": "Python 3",
   "language": "python",
   "name": "python3"
  },
  "language_info": {
   "codemirror_mode": {
    "name": "ipython",
    "version": 3
   },
   "file_extension": ".py",
   "mimetype": "text/x-python",
   "name": "python",
   "nbconvert_exporter": "python",
   "pygments_lexer": "ipython3",
   "version": "3.6.4"
  }
 },
 "nbformat": 4,
 "nbformat_minor": 2
}
